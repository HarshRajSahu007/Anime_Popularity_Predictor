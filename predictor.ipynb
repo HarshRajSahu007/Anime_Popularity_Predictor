{
 "cells": [
  {
   "cell_type": "code",
   "execution_count": 2,
   "id": "67ace15c-8e82-40fa-8a6f-ac90268ca20a",
   "metadata": {},
   "outputs": [],
   "source": [
    "import pandas as pd\n",
    "import numpy as np\n",
    "import matplotlib.pyplot as plt\n",
    "import seaborn as sns\n",
    "import plotly.express as px\n",
    "import plotly.graph_objects as go\n",
    "from plotly.subplots import make_subplots\n",
    "import warnings\n",
    "warnings.filterwarnings('ignore')"
   ]
  },
  {
   "cell_type": "code",
   "execution_count": 4,
   "id": "1669b7b5-4a4e-428f-aa73-a68c0af0a6c2",
   "metadata": {},
   "outputs": [],
   "source": [
    "plt.style.use('seaborn-v0_8')\n",
    "sns.set_palette(\"husl\")\n",
    "pd.set_option('display.max_columns', None)\n",
    "pd.set_option('display.max_rows', 100)"
   ]
  },
  {
   "cell_type": "code",
   "execution_count": 8,
   "id": "006cd311-8d1a-4503-99b5-84e93ffc8d0e",
   "metadata": {},
   "outputs": [],
   "source": [
    "df = pd.read_csv('5000_anime_combined.csv')"
   ]
  },
  {
   "cell_type": "code",
   "execution_count": 56,
   "id": "8733a463-4867-47ad-8850-cd99cdb4de45",
   "metadata": {},
   "outputs": [
    {
     "name": "stdout",
     "output_type": "stream",
     "text": [
      "<class 'pandas.core.frame.DataFrame'>\n",
      "RangeIndex: 2500 entries, 0 to 2499\n",
      "Data columns (total 8 columns):\n",
      " #   Column              Non-Null Count  Dtype  \n",
      "---  ------              --------------  -----  \n",
      " 0   title               2500 non-null   object \n",
      " 1   genre               2500 non-null   object \n",
      " 2   studio              2494 non-null   object \n",
      " 3   number_of_episodes  2466 non-null   float64\n",
      " 4   release_date        2488 non-null   object \n",
      " 5   content_type        2500 non-null   object \n",
      " 6   viewer_reviews      2466 non-null   float64\n",
      " 7   source              2500 non-null   object \n",
      "dtypes: float64(2), object(6)\n",
      "memory usage: 156.4+ KB\n"
     ]
    }
   ],
   "source": [
    "df.info()"
   ]
  },
  {
   "cell_type": "code",
   "execution_count": 14,
   "id": "ea4f5e71-97b2-4501-bd4d-edc9d1003668",
   "metadata": {},
   "outputs": [
    {
     "data": {
      "text/plain": [
       "(2500, 8)"
      ]
     },
     "execution_count": 14,
     "metadata": {},
     "output_type": "execute_result"
    }
   ],
   "source": [
    "df.shape"
   ]
  },
  {
   "cell_type": "code",
   "execution_count": 18,
   "id": "cd33cb28-40f2-47cb-9468-5fe68b2a88cc",
   "metadata": {},
   "outputs": [
    {
     "name": "stdout",
     "output_type": "stream",
     "text": [
      "🎌 ANIME DATASET OVERVIEW\n",
      "==================================================\n",
      "Dataset Shape: (2500, 8)\n",
      "Total Anime: 2500\n",
      "Total Features: 8\n"
     ]
    }
   ],
   "source": [
    "print(\"🎌 ANIME DATASET OVERVIEW\")\n",
    "print(\"=\" * 50)\n",
    "print(f\"Dataset Shape: {df.shape}\")\n",
    "print(f\"Total Anime: {len(df)}\")\n",
    "print(f\"Total Features: {len(df.columns)}\")"
   ]
  },
  {
   "cell_type": "code",
   "execution_count": 26,
   "id": "8dee906c-8cae-491a-9420-46426616601f",
   "metadata": {},
   "outputs": [
    {
     "name": "stdout",
     "output_type": "stream",
     "text": [
      "\n",
      "First 5 Rows:\n"
     ]
    },
    {
     "data": {
      "text/html": [
       "<div>\n",
       "<style scoped>\n",
       "    .dataframe tbody tr th:only-of-type {\n",
       "        vertical-align: middle;\n",
       "    }\n",
       "\n",
       "    .dataframe tbody tr th {\n",
       "        vertical-align: top;\n",
       "    }\n",
       "\n",
       "    .dataframe thead th {\n",
       "        text-align: right;\n",
       "    }\n",
       "</style>\n",
       "<table border=\"1\" class=\"dataframe\">\n",
       "  <thead>\n",
       "    <tr style=\"text-align: right;\">\n",
       "      <th></th>\n",
       "      <th>title</th>\n",
       "      <th>genre</th>\n",
       "      <th>studio</th>\n",
       "      <th>number_of_episodes</th>\n",
       "      <th>release_date</th>\n",
       "      <th>content_type</th>\n",
       "      <th>viewer_reviews</th>\n",
       "      <th>source</th>\n",
       "    </tr>\n",
       "  </thead>\n",
       "  <tbody>\n",
       "    <tr>\n",
       "      <th>0</th>\n",
       "      <td>Attack on Titan</td>\n",
       "      <td>Action, Drama, Fantasy, Mystery</td>\n",
       "      <td>WIT STUDIO</td>\n",
       "      <td>25.0</td>\n",
       "      <td>2013-04</td>\n",
       "      <td>Tv</td>\n",
       "      <td>84.0</td>\n",
       "      <td>AniList</td>\n",
       "    </tr>\n",
       "    <tr>\n",
       "      <th>1</th>\n",
       "      <td>Demon Slayer: Kimetsu no Yaiba</td>\n",
       "      <td>Action, Adventure, Drama, Fantasy, Supernatural</td>\n",
       "      <td>ufotable</td>\n",
       "      <td>26.0</td>\n",
       "      <td>2019-04</td>\n",
       "      <td>Tv</td>\n",
       "      <td>82.0</td>\n",
       "      <td>AniList</td>\n",
       "    </tr>\n",
       "    <tr>\n",
       "      <th>2</th>\n",
       "      <td>Death Note</td>\n",
       "      <td>Mystery, Psychological, Supernatural, Thriller</td>\n",
       "      <td>MADHOUSE</td>\n",
       "      <td>37.0</td>\n",
       "      <td>2006-10</td>\n",
       "      <td>Tv</td>\n",
       "      <td>84.0</td>\n",
       "      <td>AniList</td>\n",
       "    </tr>\n",
       "    <tr>\n",
       "      <th>3</th>\n",
       "      <td>JUJUTSU KAISEN</td>\n",
       "      <td>Action, Drama, Supernatural</td>\n",
       "      <td>Toho</td>\n",
       "      <td>24.0</td>\n",
       "      <td>2020-10</td>\n",
       "      <td>Tv</td>\n",
       "      <td>85.0</td>\n",
       "      <td>AniList</td>\n",
       "    </tr>\n",
       "    <tr>\n",
       "      <th>4</th>\n",
       "      <td>My Hero Academia</td>\n",
       "      <td>Action, Adventure, Comedy</td>\n",
       "      <td>bones</td>\n",
       "      <td>13.0</td>\n",
       "      <td>2016-04</td>\n",
       "      <td>Tv</td>\n",
       "      <td>76.0</td>\n",
       "      <td>AniList</td>\n",
       "    </tr>\n",
       "  </tbody>\n",
       "</table>\n",
       "</div>"
      ],
      "text/plain": [
       "                            title  \\\n",
       "0                 Attack on Titan   \n",
       "1  Demon Slayer: Kimetsu no Yaiba   \n",
       "2                      Death Note   \n",
       "3                  JUJUTSU KAISEN   \n",
       "4                My Hero Academia   \n",
       "\n",
       "                                             genre      studio  \\\n",
       "0                  Action, Drama, Fantasy, Mystery  WIT STUDIO   \n",
       "1  Action, Adventure, Drama, Fantasy, Supernatural    ufotable   \n",
       "2   Mystery, Psychological, Supernatural, Thriller    MADHOUSE   \n",
       "3                      Action, Drama, Supernatural        Toho   \n",
       "4                        Action, Adventure, Comedy       bones   \n",
       "\n",
       "   number_of_episodes release_date content_type  viewer_reviews   source  \n",
       "0                25.0      2013-04           Tv            84.0  AniList  \n",
       "1                26.0      2019-04           Tv            82.0  AniList  \n",
       "2                37.0      2006-10           Tv            84.0  AniList  \n",
       "3                24.0      2020-10           Tv            85.0  AniList  \n",
       "4                13.0      2016-04           Tv            76.0  AniList  "
      ]
     },
     "execution_count": 26,
     "metadata": {},
     "output_type": "execute_result"
    }
   ],
   "source": [
    "print(\"\\nFirst 5 Rows:\")\n",
    "df.head()"
   ]
  },
  {
   "cell_type": "code",
   "execution_count": 28,
   "id": "bd82ff1a-59ce-49dd-aacb-fff071975d4a",
   "metadata": {},
   "outputs": [
    {
     "name": "stdout",
     "output_type": "stream",
     "text": [
      "\n",
      "📋 DATASET INFO:\n",
      "<class 'pandas.core.frame.DataFrame'>\n",
      "RangeIndex: 2500 entries, 0 to 2499\n",
      "Data columns (total 8 columns):\n",
      " #   Column              Non-Null Count  Dtype  \n",
      "---  ------              --------------  -----  \n",
      " 0   title               2500 non-null   object \n",
      " 1   genre               2500 non-null   object \n",
      " 2   studio              2494 non-null   object \n",
      " 3   number_of_episodes  2466 non-null   float64\n",
      " 4   release_date        2488 non-null   object \n",
      " 5   content_type        2500 non-null   object \n",
      " 6   viewer_reviews      2466 non-null   float64\n",
      " 7   source              2500 non-null   object \n",
      "dtypes: float64(2), object(6)\n",
      "memory usage: 156.4+ KB\n"
     ]
    }
   ],
   "source": [
    "print(\"\\n📋 DATASET INFO:\")\n",
    "df.info()"
   ]
  },
  {
   "cell_type": "code",
   "execution_count": 30,
   "id": "f87e96f2-3e83-4969-a5ee-53ac6af2eab9",
   "metadata": {},
   "outputs": [
    {
     "name": "stdout",
     "output_type": "stream",
     "text": [
      "\n",
      "📈 BASIC STATISTICS:\n"
     ]
    },
    {
     "data": {
      "text/html": [
       "<div>\n",
       "<style scoped>\n",
       "    .dataframe tbody tr th:only-of-type {\n",
       "        vertical-align: middle;\n",
       "    }\n",
       "\n",
       "    .dataframe tbody tr th {\n",
       "        vertical-align: top;\n",
       "    }\n",
       "\n",
       "    .dataframe thead th {\n",
       "        text-align: right;\n",
       "    }\n",
       "</style>\n",
       "<table border=\"1\" class=\"dataframe\">\n",
       "  <thead>\n",
       "    <tr style=\"text-align: right;\">\n",
       "      <th></th>\n",
       "      <th>title</th>\n",
       "      <th>genre</th>\n",
       "      <th>studio</th>\n",
       "      <th>number_of_episodes</th>\n",
       "      <th>release_date</th>\n",
       "      <th>content_type</th>\n",
       "      <th>viewer_reviews</th>\n",
       "      <th>source</th>\n",
       "    </tr>\n",
       "  </thead>\n",
       "  <tbody>\n",
       "    <tr>\n",
       "      <th>count</th>\n",
       "      <td>2500</td>\n",
       "      <td>2500</td>\n",
       "      <td>2494</td>\n",
       "      <td>2466.000000</td>\n",
       "      <td>2488</td>\n",
       "      <td>2500</td>\n",
       "      <td>2466.000000</td>\n",
       "      <td>2500</td>\n",
       "    </tr>\n",
       "    <tr>\n",
       "      <th>unique</th>\n",
       "      <td>2500</td>\n",
       "      <td>691</td>\n",
       "      <td>270</td>\n",
       "      <td>NaN</td>\n",
       "      <td>337</td>\n",
       "      <td>8</td>\n",
       "      <td>NaN</td>\n",
       "      <td>1</td>\n",
       "    </tr>\n",
       "    <tr>\n",
       "      <th>top</th>\n",
       "      <td>Attack on Titan</td>\n",
       "      <td>Comedy, Slice of Life</td>\n",
       "      <td>J.C.STAFF</td>\n",
       "      <td>NaN</td>\n",
       "      <td>2023-01</td>\n",
       "      <td>Tv</td>\n",
       "      <td>NaN</td>\n",
       "      <td>AniList</td>\n",
       "    </tr>\n",
       "    <tr>\n",
       "      <th>freq</th>\n",
       "      <td>1</td>\n",
       "      <td>97</td>\n",
       "      <td>116</td>\n",
       "      <td>NaN</td>\n",
       "      <td>39</td>\n",
       "      <td>1755</td>\n",
       "      <td>NaN</td>\n",
       "      <td>2500</td>\n",
       "    </tr>\n",
       "    <tr>\n",
       "      <th>mean</th>\n",
       "      <td>NaN</td>\n",
       "      <td>NaN</td>\n",
       "      <td>NaN</td>\n",
       "      <td>15.034874</td>\n",
       "      <td>NaN</td>\n",
       "      <td>NaN</td>\n",
       "      <td>71.931873</td>\n",
       "      <td>NaN</td>\n",
       "    </tr>\n",
       "    <tr>\n",
       "      <th>std</th>\n",
       "      <td>NaN</td>\n",
       "      <td>NaN</td>\n",
       "      <td>NaN</td>\n",
       "      <td>24.575710</td>\n",
       "      <td>NaN</td>\n",
       "      <td>NaN</td>\n",
       "      <td>7.831661</td>\n",
       "      <td>NaN</td>\n",
       "    </tr>\n",
       "    <tr>\n",
       "      <th>min</th>\n",
       "      <td>NaN</td>\n",
       "      <td>NaN</td>\n",
       "      <td>NaN</td>\n",
       "      <td>1.000000</td>\n",
       "      <td>NaN</td>\n",
       "      <td>NaN</td>\n",
       "      <td>21.000000</td>\n",
       "      <td>NaN</td>\n",
       "    </tr>\n",
       "    <tr>\n",
       "      <th>25%</th>\n",
       "      <td>NaN</td>\n",
       "      <td>NaN</td>\n",
       "      <td>NaN</td>\n",
       "      <td>10.000000</td>\n",
       "      <td>NaN</td>\n",
       "      <td>NaN</td>\n",
       "      <td>67.000000</td>\n",
       "      <td>NaN</td>\n",
       "    </tr>\n",
       "    <tr>\n",
       "      <th>50%</th>\n",
       "      <td>NaN</td>\n",
       "      <td>NaN</td>\n",
       "      <td>NaN</td>\n",
       "      <td>12.000000</td>\n",
       "      <td>NaN</td>\n",
       "      <td>NaN</td>\n",
       "      <td>72.000000</td>\n",
       "      <td>NaN</td>\n",
       "    </tr>\n",
       "    <tr>\n",
       "      <th>75%</th>\n",
       "      <td>NaN</td>\n",
       "      <td>NaN</td>\n",
       "      <td>NaN</td>\n",
       "      <td>13.000000</td>\n",
       "      <td>NaN</td>\n",
       "      <td>NaN</td>\n",
       "      <td>77.000000</td>\n",
       "      <td>NaN</td>\n",
       "    </tr>\n",
       "    <tr>\n",
       "      <th>max</th>\n",
       "      <td>NaN</td>\n",
       "      <td>NaN</td>\n",
       "      <td>NaN</td>\n",
       "      <td>500.000000</td>\n",
       "      <td>NaN</td>\n",
       "      <td>NaN</td>\n",
       "      <td>91.000000</td>\n",
       "      <td>NaN</td>\n",
       "    </tr>\n",
       "  </tbody>\n",
       "</table>\n",
       "</div>"
      ],
      "text/plain": [
       "                  title                  genre     studio  number_of_episodes  \\\n",
       "count              2500                   2500       2494         2466.000000   \n",
       "unique             2500                    691        270                 NaN   \n",
       "top     Attack on Titan  Comedy, Slice of Life  J.C.STAFF                 NaN   \n",
       "freq                  1                     97        116                 NaN   \n",
       "mean                NaN                    NaN        NaN           15.034874   \n",
       "std                 NaN                    NaN        NaN           24.575710   \n",
       "min                 NaN                    NaN        NaN            1.000000   \n",
       "25%                 NaN                    NaN        NaN           10.000000   \n",
       "50%                 NaN                    NaN        NaN           12.000000   \n",
       "75%                 NaN                    NaN        NaN           13.000000   \n",
       "max                 NaN                    NaN        NaN          500.000000   \n",
       "\n",
       "       release_date content_type  viewer_reviews   source  \n",
       "count          2488         2500     2466.000000     2500  \n",
       "unique          337            8             NaN        1  \n",
       "top         2023-01           Tv             NaN  AniList  \n",
       "freq             39         1755             NaN     2500  \n",
       "mean            NaN          NaN       71.931873      NaN  \n",
       "std             NaN          NaN        7.831661      NaN  \n",
       "min             NaN          NaN       21.000000      NaN  \n",
       "25%             NaN          NaN       67.000000      NaN  \n",
       "50%             NaN          NaN       72.000000      NaN  \n",
       "75%             NaN          NaN       77.000000      NaN  \n",
       "max             NaN          NaN       91.000000      NaN  "
      ]
     },
     "execution_count": 30,
     "metadata": {},
     "output_type": "execute_result"
    }
   ],
   "source": [
    "print(\"\\n📈 BASIC STATISTICS:\")\n",
    "df.describe(include='all')"
   ]
  },
  {
   "cell_type": "code",
   "execution_count": 40,
   "id": "6329588d-439e-4e4a-bd6c-43879f0bc810",
   "metadata": {},
   "outputs": [
    {
     "name": "stdout",
     "output_type": "stream",
     "text": [
      "title have 2500 unique values\n",
      "genre have 691 unique values\n",
      "studio have 270 unique values\n",
      "number_of_episodes have 96 unique values\n",
      "release_date have 337 unique values\n",
      "content_type have 8 unique values\n",
      "viewer_reviews have 52 unique values\n",
      "source have 1 unique values\n"
     ]
    }
   ],
   "source": [
    "for column in df.columns:\n",
    "    print(f\"{column} have {df[column].nunique()} unique values\")"
   ]
  },
  {
   "cell_type": "code",
   "execution_count": 58,
   "id": "dea9c957-b1df-4bd8-8ad1-b623ec283ae3",
   "metadata": {},
   "outputs": [
    {
     "name": "stdout",
     "output_type": "stream",
     "text": [
      "DATA CLEANING\n",
      "==================================================\n",
      "                    Missing Count  Missing Percentage\n",
      "number_of_episodes             34                1.36\n",
      "viewer_reviews                 34                1.36\n",
      "release_date                   12                0.48\n",
      "studio                          6                0.24\n",
      "title                           0                0.00\n",
      "genre                           0                0.00\n",
      "content_type                    0                0.00\n",
      "source                          0                0.00\n"
     ]
    }
   ],
   "source": [
    "print(\"DATA CLEANING\")\n",
    "print (\"=\" * 50)\n",
    "\n",
    "#Chcek For missing Values\n",
    "missing_values = df.isna().sum()\n",
    "missing_percent = (missing_values/len(df))*100\n",
    "missing_df = pd.DataFrame({\n",
    "    'Missing Count': missing_values,\n",
    "    'Missing Percentage':missing_percent\n",
    "}).sort_values('Missing Count',ascending = False)\n",
    "print(missing_df)"
   ]
  },
  {
   "cell_type": "code",
   "execution_count": 60,
   "id": "a07d0789-4292-4d04-89e5-aa1223aac667",
   "metadata": {},
   "outputs": [
    {
     "data": {
      "image/png": "[encoded data removed]",
      "text/plain": [
       "<Figure size 1000x600 with 2 Axes>"
      ]
     },
     "metadata": {},
     "output_type": "display_data"
    }
   ],
   "source": [
    "plt.figure(figsize=(10, 6))\n",
    "sns.heatmap(df.isnull(), cbar=True, yticklabels=False, cmap='viridis')\n",
    "plt.title('Missing Values Heatmap')\n",
    "plt.show()"
   ]
  },
  {
   "cell_type": "code",
   "execution_count": 62,
   "id": "f7f4dc80-d121-4e0f-9e2f-af34e5d16d41",
   "metadata": {},
   "outputs": [],
   "source": [
    "df_clean = df.copy()"
   ]
  },
  {
   "cell_type": "code",
   "execution_count": 64,
   "id": "3e159436-8d43-4a8b-8d24-a97bb3339380",
   "metadata": {},
   "outputs": [],
   "source": [
    "df_clean['genre'] = df_clean['genre'].fillna('Unknown')\n",
    "df_clean['studio'] = df_clean['studio'].fillna('Unknown')\n",
    "df_clean['number_of_episodes'] = df_clean['number_of_episodes'].fillna('0')\n",
    "df_clean['release_date'] = df_clean['release_date'].fillna('Unknown')\n",
    "df_clean['content_type'] = df_clean['content_type'].fillna('Unknown')\n",
    "df_clean['viewer_reviews'] = df_clean['viewer_reviews'].fillna('0')"
   ]
  },
  {
   "cell_type": "code",
   "execution_count": 66,
   "id": "792bd061-e216-4e74-80f5-9c7dcb78efd5",
   "metadata": {},
   "outputs": [
    {
     "data": {
      "text/plain": [
       "title                 0\n",
       "genre                 0\n",
       "studio                0\n",
       "number_of_episodes    0\n",
       "release_date          0\n",
       "content_type          0\n",
       "viewer_reviews        0\n",
       "source                0\n",
       "dtype: int64"
      ]
     },
     "execution_count": 66,
     "metadata": {},
     "output_type": "execute_result"
    }
   ],
   "source": [
    "df_clean.isna().sum()"
   ]
  },
  {
   "cell_type": "code",
   "execution_count": 68,
   "id": "1eabc155-62ae-49a8-882c-873fdb15dbd2",
   "metadata": {},
   "outputs": [],
   "source": [
    "df_clean['number_of_episodes'] = pd.to_numeric(df_clean['number_of_episodes'], errors='coerce').fillna(0).astype(int)\n",
    "df_clean['viewer_reviews'] = pd.to_numeric(df_clean['viewer_reviews'], errors='coerce').fillna(0)\n"
   ]
  },
  {
   "cell_type": "code",
   "execution_count": 70,
   "id": "a8a09c56-2f77-4ded-8233-bafca1aec982",
   "metadata": {},
   "outputs": [
    {
     "data": {
      "text/html": [
       "<div>\n",
       "<style scoped>\n",
       "    .dataframe tbody tr th:only-of-type {\n",
       "        vertical-align: middle;\n",
       "    }\n",
       "\n",
       "    .dataframe tbody tr th {\n",
       "        vertical-align: top;\n",
       "    }\n",
       "\n",
       "    .dataframe thead th {\n",
       "        text-align: right;\n",
       "    }\n",
       "</style>\n",
       "<table border=\"1\" class=\"dataframe\">\n",
       "  <thead>\n",
       "    <tr style=\"text-align: right;\">\n",
       "      <th></th>\n",
       "      <th>title</th>\n",
       "      <th>genre</th>\n",
       "      <th>studio</th>\n",
       "      <th>number_of_episodes</th>\n",
       "      <th>release_date</th>\n",
       "      <th>content_type</th>\n",
       "      <th>viewer_reviews</th>\n",
       "      <th>source</th>\n",
       "    </tr>\n",
       "  </thead>\n",
       "  <tbody>\n",
       "    <tr>\n",
       "      <th>0</th>\n",
       "      <td>Attack on Titan</td>\n",
       "      <td>Action, Drama, Fantasy, Mystery</td>\n",
       "      <td>WIT STUDIO</td>\n",
       "      <td>25.0</td>\n",
       "      <td>2013-04</td>\n",
       "      <td>Tv</td>\n",
       "      <td>84.0</td>\n",
       "      <td>AniList</td>\n",
       "    </tr>\n",
       "    <tr>\n",
       "      <th>1</th>\n",
       "      <td>Demon Slayer: Kimetsu no Yaiba</td>\n",
       "      <td>Action, Adventure, Drama, Fantasy, Supernatural</td>\n",
       "      <td>ufotable</td>\n",
       "      <td>26.0</td>\n",
       "      <td>2019-04</td>\n",
       "      <td>Tv</td>\n",
       "      <td>82.0</td>\n",
       "      <td>AniList</td>\n",
       "    </tr>\n",
       "    <tr>\n",
       "      <th>2</th>\n",
       "      <td>Death Note</td>\n",
       "      <td>Mystery, Psychological, Supernatural, Thriller</td>\n",
       "      <td>MADHOUSE</td>\n",
       "      <td>37.0</td>\n",
       "      <td>2006-10</td>\n",
       "      <td>Tv</td>\n",
       "      <td>84.0</td>\n",
       "      <td>AniList</td>\n",
       "    </tr>\n",
       "    <tr>\n",
       "      <th>3</th>\n",
       "      <td>JUJUTSU KAISEN</td>\n",
       "      <td>Action, Drama, Supernatural</td>\n",
       "      <td>Toho</td>\n",
       "      <td>24.0</td>\n",
       "      <td>2020-10</td>\n",
       "      <td>Tv</td>\n",
       "      <td>85.0</td>\n",
       "      <td>AniList</td>\n",
       "    </tr>\n",
       "    <tr>\n",
       "      <th>4</th>\n",
       "      <td>My Hero Academia</td>\n",
       "      <td>Action, Adventure, Comedy</td>\n",
       "      <td>bones</td>\n",
       "      <td>13.0</td>\n",
       "      <td>2016-04</td>\n",
       "      <td>Tv</td>\n",
       "      <td>76.0</td>\n",
       "      <td>AniList</td>\n",
       "    </tr>\n",
       "  </tbody>\n",
       "</table>\n",
       "</div>"
      ],
      "text/plain": [
       "                            title  \\\n",
       "0                 Attack on Titan   \n",
       "1  Demon Slayer: Kimetsu no Yaiba   \n",
       "2                      Death Note   \n",
       "3                  JUJUTSU KAISEN   \n",
       "4                My Hero Academia   \n",
       "\n",
       "                                             genre      studio  \\\n",
       "0                  Action, Drama, Fantasy, Mystery  WIT STUDIO   \n",
       "1  Action, Adventure, Drama, Fantasy, Supernatural    ufotable   \n",
       "2   Mystery, Psychological, Supernatural, Thriller    MADHOUSE   \n",
       "3                      Action, Drama, Supernatural        Toho   \n",
       "4                        Action, Adventure, Comedy       bones   \n",
       "\n",
       "   number_of_episodes release_date content_type  viewer_reviews   source  \n",
       "0                25.0      2013-04           Tv            84.0  AniList  \n",
       "1                26.0      2019-04           Tv            82.0  AniList  \n",
       "2                37.0      2006-10           Tv            84.0  AniList  \n",
       "3                24.0      2020-10           Tv            85.0  AniList  \n",
       "4                13.0      2016-04           Tv            76.0  AniList  "
      ]
     },
     "execution_count": 70,
     "metadata": {},
     "output_type": "execute_result"
    }
   ],
   "source": [
    "df.head()"
   ]
  },
  {
   "cell_type": "code",
   "execution_count": 72,
   "id": "ac6a8e40-641c-4d60-92b3-b57980ede8cf",
   "metadata": {},
   "outputs": [],
   "source": [
    "df_clean['release_year'] = df_clean['release_date'].str.extract(r'(\\d{4})').astype(float)"
   ]
  },
  {
   "cell_type": "code",
   "execution_count": 78,
   "id": "c6f2ff13-4fdb-4554-9eb5-c84ffde0b228",
   "metadata": {},
   "outputs": [],
   "source": [
    "df_clean = df_clean.dropna()"
   ]
  },
  {
   "cell_type": "code",
   "execution_count": 86,
   "id": "e0ef82e7-2992-433f-b035-a7b6cf971583",
   "metadata": {},
   "outputs": [
    {
     "name": "stdout",
     "output_type": "stream",
     "text": [
      "✅ Cleaned dataset shape: (2488, 9)\n",
      "Missing values after cleaning: 0\n"
     ]
    }
   ],
   "source": [
    "print(f\"✅ Cleaned dataset shape: {df_clean.shape}\")\n",
    "print(f\"Missing values after cleaning: {df_clean.isnull().sum().sum()}\")"
   ]
  },
  {
   "cell_type": "code",
   "execution_count": 88,
   "id": "2e945573-b29f-4b55-90b7-5d290a15f7eb",
   "metadata": {},
   "outputs": [
    {
     "data": {
      "text/plain": [
       "title                 0\n",
       "genre                 0\n",
       "studio                0\n",
       "number_of_episodes    0\n",
       "release_date          0\n",
       "content_type          0\n",
       "viewer_reviews        0\n",
       "source                0\n",
       "release_year          0\n",
       "dtype: int64"
      ]
     },
     "execution_count": 88,
     "metadata": {},
     "output_type": "execute_result"
    }
   ],
   "source": [
    "df_clean.isna().sum()"
   ]
  },
  {
   "cell_type": "markdown",
   "id": "49735e23-f3e6-491f-a3d7-659b7a55d0d0",
   "metadata": {},
   "source": [
    "#BASIC STATISTICS"
   ]
  },
  {
   "cell_type": "code",
   "execution_count": 96,
   "id": "012dce54-0f28-4f3a-8696-b1ff01b9ac5f",
   "metadata": {},
   "outputs": [
    {
     "name": "stdout",
     "output_type": "stream",
     "text": [
      "BASIC STATISTICS\n",
      "==================================================\n",
      "📺 Total Anime: 2,488\n",
      "🏢 Unique Studios: 271\n",
      "🎭 Total Genre Mentions: 8,645\n",
      "📈 Average Episodes: 15.1\n",
      "⭐ Average Rating: 71.9\n"
     ]
    }
   ],
   "source": [
    "print('BASIC STATISTICS')\n",
    "print(\"=\"*50)\n",
    "total_anime = len(df_clean)\n",
    "unique_studios = df_clean['studio'].nunique()\n",
    "unique_genres = len([g.strip() for genres in df_clean['genre'].str.split(',') for g in genres if g.strip() != 'Unknown'])\n",
    "avg_episodes = df_clean[df_clean['number_of_episodes'] > 0]['number_of_episodes'].mean()\n",
    "avg_rating = df_clean[df_clean['viewer_reviews'] > 0]['viewer_reviews'].mean()\n",
    "\n",
    "print(f\"📺 Total Anime: {total_anime:,}\")\n",
    "print(f\"🏢 Unique Studios: {unique_studios:,}\")\n",
    "print(f\"🎭 Total Genre Mentions: {unique_genres:,}\")\n",
    "print(f\"📈 Average Episodes: {avg_episodes:.1f}\")\n",
    "print(f\"⭐ Average Rating: {avg_rating:.1f}\")"
   ]
  },
  {
   "cell_type": "code",
   "execution_count": null,
   "id": "cb62d6a3-d71c-4bbd-85dd-5cdb02525f00",
   "metadata": {},
   "outputs": [],
   "source": []
  }
 ],
 "metadata": {
  "kernelspec": {
   "display_name": "Python (python3)",
   "language": "python",
   "name": "python3"
  },
  "language_info": {
   "codemirror_mode": {
    "name": "ipython",
    "version": 3
   },
   "file_extension": ".py",
   "mimetype": "text/x-python",
   "name": "python",
   "nbconvert_exporter": "python",
   "pygments_lexer": "ipython3",
   "version": "3.12.1"
  }
 },
 "nbformat": 4,
 "nbformat_minor": 5
}
